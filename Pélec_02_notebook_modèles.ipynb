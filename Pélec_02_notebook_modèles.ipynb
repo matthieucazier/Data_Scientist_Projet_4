{
 "cells": [
  {
   "cell_type": "markdown",
   "metadata": {},
   "source": [
    "# Projet 4"
   ]
  },
  {
   "cell_type": "markdown",
   "metadata": {},
   "source": [
    "#### Matthieu cazier"
   ]
  },
  {
   "cell_type": "markdown",
   "metadata": {},
   "source": [
    "<ul>\n",
    "<li>Comparer un ensemble de modèles\n",
    "<li>Choisir les 3 meilleurs modèles\n",
    "<li>Trouver les meilleurs paramètres\n",
    "<li>Choisir le meilleur modèle\n",
    "<li>Choisir les meilleurs variables\n",
    "<li>Comparer avec les test sets\n",
    "<\\ul>"
   ]
  },
  {
   "cell_type": "markdown",
   "metadata": {},
   "source": [
    "#### Librairies"
   ]
  },
  {
   "cell_type": "code",
   "execution_count": 1,
   "metadata": {},
   "outputs": [
    {
     "name": "stderr",
     "output_type": "stream",
     "text": [
      "\n",
      "Bad key \"text.kerning_factor\" on line 4 in\n",
      "C:\\Users\\Matthieu\\anaconda3\\envs\\myenv\\lib\\site-packages\\matplotlib\\mpl-data\\stylelib\\_classic_test_patch.mplstyle.\n",
      "You probably need to get an updated matplotlibrc file from\n",
      "https://github.com/matplotlib/matplotlib/blob/v3.1.3/matplotlibrc.template\n",
      "or from the matplotlib source distribution\n"
     ]
    }
   ],
   "source": [
    "import pandas as pd\n",
    "import os \n",
    "import matplotlib.pyplot as plt\n",
    "import seaborn as sns\n",
    "import numpy as np\n",
    "from scipy import stats"
   ]
  },
  {
   "cell_type": "markdown",
   "metadata": {},
   "source": [
    "#### Récupérer le dataset sans données manquantes"
   ]
  },
  {
   "cell_type": "code",
   "execution_count": 2,
   "metadata": {},
   "outputs": [],
   "source": [
    "dataframe = pd.read_csv('df.csv')\n",
    "df = dataframe.copy()\n",
    "df = df.drop(['Unnamed: 0'],axis=1)\n",
    "df = df.drop(['DefaultData'],axis=1)"
   ]
  },
  {
   "cell_type": "code",
   "execution_count": 3,
   "metadata": {},
   "outputs": [],
   "source": [
    "#les deux targuet : \n",
    "# TotalGHGEmissions & SiteEnergyUse(kBtu)"
   ]
  },
  {
   "cell_type": "markdown",
   "metadata": {},
   "source": [
    "#### Variables inutiles ou uniques"
   ]
  },
  {
   "cell_type": "code",
   "execution_count": 4,
   "metadata": {},
   "outputs": [],
   "source": [
    "df = df.drop(['OSEBuildingID','Address','City','State','TaxParcelIdentificationNumber','ListOfAllPropertyUseTypes',\n",
    "             'PropertyName','SourceEUI(kBtu/sf)','PropertyGFATotal','TotalGHGEmissions'],axis=1) #SiteEnergyUse(kBtu)"
   ]
  },
  {
   "cell_type": "markdown",
   "metadata": {},
   "source": [
    "#### log"
   ]
  },
  {
   "cell_type": "code",
   "execution_count": 5,
   "metadata": {},
   "outputs": [
    {
     "data": {
      "text/plain": [
       "<matplotlib.axes._subplots.AxesSubplot at 0x148c0653e88>"
      ]
     },
     "execution_count": 5,
     "metadata": {},
     "output_type": "execute_result"
    },
    {
     "data": {
      "image/png": "[encoded data removed]",
      "text/plain": [
       "<Figure size 432x288 with 1 Axes>"
      ]
     },
     "metadata": {
      "needs_background": "light"
     },
     "output_type": "display_data"
    }
   ],
   "source": [
    "df['SiteEnergyUse(kBtu)_log'] = np.log2(1+df['SiteEnergyUse(kBtu)']) #TotalGHGEmissions\n",
    "df = df.drop(['SiteEnergyUse(kBtu)'],axis=1)\n",
    "sns.distplot(df['SiteEnergyUse(kBtu)_log'])"
   ]
  },
  {
   "cell_type": "markdown",
   "metadata": {},
   "source": [
    "#### Data engenering"
   ]
  },
  {
   "cell_type": "code",
   "execution_count": 6,
   "metadata": {},
   "outputs": [],
   "source": [
    "df['AgeBat'] = df['DataYear']-df['YearBuilt']\n",
    "df = df.drop(['DataYear','YearBuilt'],axis=1)\n",
    "\n",
    "\n",
    "#créer 3 colonne avec des 0\n",
    "df['most_use_steam'] = 0\n",
    "df['most_use_natural'] = 0\n",
    "df['most_use_electric'] = 0\n",
    "\n",
    "### l'énergie qui est la plus utilisé (electrcité/natural/streamuse), rajouter 1 dans la colonne si c'est l'energie la plus utilisé\n",
    "df.loc [(df['SteamUse(kBtu)'] > df['Electricity(kBtu)']) & (df['SteamUse(kBtu)'] > df['NaturalGas(kBtu)']),'most_use_steam'] = 1\n",
    "df.loc [(df['NaturalGas(kBtu)'] > df['Electricity(kBtu)']) & (df['NaturalGas(kBtu)'] > df['SteamUse(kBtu)']),'most_use_natural'] = 1\n",
    "df.loc [(df['Electricity(kBtu)'] > df['NaturalGas(kBtu)']) & (df['Electricity(kBtu)'] > df['SteamUse(kBtu)']),'most_use_electric'] = 1\n",
    "\n",
    "# quels sont les énergies utilisés\n",
    "df.loc [df ['SteamUse(kBtu)'] == 0, 'SteamUse(kBtu)'] = 0\n",
    "df.loc [df ['SteamUse(kBtu)'] != 0, 'SteamUse(kBtu)'] = 1\n",
    "df.loc [df ['Electricity(kBtu)'] == 0, 'Electricity(kBtu)'] = 0\n",
    "df.loc [df ['Electricity(kBtu)'] != 0, 'Electricity(kBtu)'] = 1\n",
    "df.loc [df ['NaturalGas(kBtu)'] == 0, 'NaturalGas(kBtu)'] = 0\n",
    "df.loc [df ['NaturalGas(kBtu)'] != 0, 'NaturalGas(kBtu)'] = 1\n",
    "\n",
    "### renommer pour ne pas croire que j'utilise des données fuites\n",
    "df = df.rename(columns = {'SteamUse(kBtu)': 'use_stream', 'Electricity(kBtu)': 'use_electricity',\n",
    "                     'NaturalGas(kBtu)':'use_natural'})\n",
    "#df=df.drop(['SteamUse(kBtu)','Electricity(kBtu)','NaturalGas(kBtu)'],axis=1)"
   ]
  },
  {
   "cell_type": "markdown",
   "metadata": {},
   "source": [
    "#### Supprimer les données fuites "
   ]
  },
  {
   "cell_type": "code",
   "execution_count": 7,
   "metadata": {},
   "outputs": [],
   "source": [
    "df = df.drop(['SiteEUI(kBtu/sf)','SiteEUIWN(kBtu/sf)','NaturalGas(therms)','GHGEmissionsIntensity',\n",
    "            'SourceEUIWN(kBtu/sf)','SiteEnergyUseWN(kBtu)','Electricity(kWh)'],axis=1)"
   ]
  },
  {
   "cell_type": "code",
   "execution_count": 8,
   "metadata": {},
   "outputs": [],
   "source": [
    "df_final = df.copy()"
   ]
  },
  {
   "cell_type": "code",
   "execution_count": 9,
   "metadata": {},
   "outputs": [],
   "source": [
    "pd.set_option('display.max_columns', 31)"
   ]
  },
  {
   "cell_type": "code",
   "execution_count": 10,
   "metadata": {},
   "outputs": [
    {
     "data": {
      "text/html": [
       "<div>\n",
       "<style scoped>\n",
       "    .dataframe tbody tr th:only-of-type {\n",
       "        vertical-align: middle;\n",
       "    }\n",
       "\n",
       "    .dataframe tbody tr th {\n",
       "        vertical-align: top;\n",
       "    }\n",
       "\n",
       "    .dataframe thead th {\n",
       "        text-align: right;\n",
       "    }\n",
       "</style>\n",
       "<table border=\"1\" class=\"dataframe\">\n",
       "  <thead>\n",
       "    <tr style=\"text-align: right;\">\n",
       "      <th></th>\n",
       "      <th>BuildingType</th>\n",
       "      <th>PrimaryPropertyType</th>\n",
       "      <th>CouncilDistrictCode</th>\n",
       "      <th>Neighborhood</th>\n",
       "      <th>NumberofBuildings</th>\n",
       "      <th>NumberofFloors</th>\n",
       "      <th>PropertyGFAParking</th>\n",
       "      <th>PropertyGFABuilding(s)</th>\n",
       "      <th>LargestPropertyUseType</th>\n",
       "      <th>SecondLargestPropertyUseType</th>\n",
       "      <th>use_stream</th>\n",
       "      <th>use_electricity</th>\n",
       "      <th>use_natural</th>\n",
       "      <th>ComplianceStatus</th>\n",
       "      <th>Latitude</th>\n",
       "      <th>Longitude</th>\n",
       "      <th>SecondLargestPropertyUseTypeGFA</th>\n",
       "      <th>ENERGYSTARScore</th>\n",
       "      <th>LargestPropertyUseTypeGFA</th>\n",
       "      <th>SiteEnergyUse(kBtu)_log</th>\n",
       "      <th>AgeBat</th>\n",
       "      <th>most_use_steam</th>\n",
       "      <th>most_use_natural</th>\n",
       "      <th>most_use_electric</th>\n",
       "    </tr>\n",
       "  </thead>\n",
       "  <tbody>\n",
       "    <tr>\n",
       "      <th>0</th>\n",
       "      <td>NonResidential</td>\n",
       "      <td>Large Office</td>\n",
       "      <td>7</td>\n",
       "      <td>DOWNTOWN</td>\n",
       "      <td>1.0</td>\n",
       "      <td>6.0</td>\n",
       "      <td>25920</td>\n",
       "      <td>146922</td>\n",
       "      <td>Office</td>\n",
       "      <td>Data Center</td>\n",
       "      <td>0.0</td>\n",
       "      <td>1.0</td>\n",
       "      <td>1.0</td>\n",
       "      <td>Compliant</td>\n",
       "      <td>47.606016</td>\n",
       "      <td>-122.335696</td>\n",
       "      <td>39336.0</td>\n",
       "      <td>51.4</td>\n",
       "      <td>92310.0</td>\n",
       "      <td>25.292357</td>\n",
       "      <td>57</td>\n",
       "      <td>0</td>\n",
       "      <td>0</td>\n",
       "      <td>1</td>\n",
       "    </tr>\n",
       "    <tr>\n",
       "      <th>1</th>\n",
       "      <td>NonResidential</td>\n",
       "      <td>Small- and Mid-Sized Office</td>\n",
       "      <td>7</td>\n",
       "      <td>DOWNTOWN</td>\n",
       "      <td>1.0</td>\n",
       "      <td>6.0</td>\n",
       "      <td>25920</td>\n",
       "      <td>72450</td>\n",
       "      <td>Office</td>\n",
       "      <td>no information</td>\n",
       "      <td>0.0</td>\n",
       "      <td>1.0</td>\n",
       "      <td>1.0</td>\n",
       "      <td>Compliant</td>\n",
       "      <td>47.606799</td>\n",
       "      <td>-122.337100</td>\n",
       "      <td>31552.6</td>\n",
       "      <td>45.0</td>\n",
       "      <td>98370.0</td>\n",
       "      <td>22.637743</td>\n",
       "      <td>109</td>\n",
       "      <td>0</td>\n",
       "      <td>0</td>\n",
       "      <td>1</td>\n",
       "    </tr>\n",
       "    <tr>\n",
       "      <th>2</th>\n",
       "      <td>NonResidential</td>\n",
       "      <td>Large Office</td>\n",
       "      <td>7</td>\n",
       "      <td>LAKE UNION</td>\n",
       "      <td>1.0</td>\n",
       "      <td>4.0</td>\n",
       "      <td>37854</td>\n",
       "      <td>155934</td>\n",
       "      <td>Office</td>\n",
       "      <td>Parking</td>\n",
       "      <td>0.0</td>\n",
       "      <td>1.0</td>\n",
       "      <td>0.0</td>\n",
       "      <td>Compliant</td>\n",
       "      <td>47.621476</td>\n",
       "      <td>-122.343050</td>\n",
       "      <td>47539.0</td>\n",
       "      <td>59.0</td>\n",
       "      <td>138672.0</td>\n",
       "      <td>23.998538</td>\n",
       "      <td>68</td>\n",
       "      <td>0</td>\n",
       "      <td>0</td>\n",
       "      <td>1</td>\n",
       "    </tr>\n",
       "    <tr>\n",
       "      <th>3</th>\n",
       "      <td>NonResidential</td>\n",
       "      <td>Small- and Mid-Sized Office</td>\n",
       "      <td>2</td>\n",
       "      <td>GREATER DUWAMISH</td>\n",
       "      <td>1.0</td>\n",
       "      <td>3.0</td>\n",
       "      <td>21410</td>\n",
       "      <td>55188</td>\n",
       "      <td>Office</td>\n",
       "      <td>Parking</td>\n",
       "      <td>0.0</td>\n",
       "      <td>1.0</td>\n",
       "      <td>1.0</td>\n",
       "      <td>Compliant</td>\n",
       "      <td>47.570897</td>\n",
       "      <td>-122.297412</td>\n",
       "      <td>21410.0</td>\n",
       "      <td>76.0</td>\n",
       "      <td>55188.0</td>\n",
       "      <td>22.094100</td>\n",
       "      <td>7</td>\n",
       "      <td>0</td>\n",
       "      <td>1</td>\n",
       "      <td>0</td>\n",
       "    </tr>\n",
       "    <tr>\n",
       "      <th>4</th>\n",
       "      <td>NonResidential</td>\n",
       "      <td>Retail Store</td>\n",
       "      <td>4</td>\n",
       "      <td>NORTHEAST</td>\n",
       "      <td>1.0</td>\n",
       "      <td>2.0</td>\n",
       "      <td>0</td>\n",
       "      <td>69492</td>\n",
       "      <td>Retail Store</td>\n",
       "      <td>Other</td>\n",
       "      <td>0.0</td>\n",
       "      <td>1.0</td>\n",
       "      <td>0.0</td>\n",
       "      <td>Compliant</td>\n",
       "      <td>47.661726</td>\n",
       "      <td>-122.317961</td>\n",
       "      <td>0.0</td>\n",
       "      <td>100.0</td>\n",
       "      <td>69800.0</td>\n",
       "      <td>18.640026</td>\n",
       "      <td>28</td>\n",
       "      <td>0</td>\n",
       "      <td>0</td>\n",
       "      <td>1</td>\n",
       "    </tr>\n",
       "  </tbody>\n",
       "</table>\n",
       "</div>"
      ],
      "text/plain": [
       "     BuildingType          PrimaryPropertyType  CouncilDistrictCode  \\\n",
       "0  NonResidential                 Large Office                    7   \n",
       "1  NonResidential  Small- and Mid-Sized Office                    7   \n",
       "2  NonResidential                 Large Office                    7   \n",
       "3  NonResidential  Small- and Mid-Sized Office                    2   \n",
       "4  NonResidential                 Retail Store                    4   \n",
       "\n",
       "       Neighborhood  NumberofBuildings  NumberofFloors  PropertyGFAParking  \\\n",
       "0          DOWNTOWN                1.0             6.0               25920   \n",
       "1          DOWNTOWN                1.0             6.0               25920   \n",
       "2        LAKE UNION                1.0             4.0               37854   \n",
       "3  GREATER DUWAMISH                1.0             3.0               21410   \n",
       "4         NORTHEAST                1.0             2.0                   0   \n",
       "\n",
       "   PropertyGFABuilding(s) LargestPropertyUseType SecondLargestPropertyUseType  \\\n",
       "0                  146922                 Office                  Data Center   \n",
       "1                   72450                 Office               no information   \n",
       "2                  155934                 Office                      Parking   \n",
       "3                   55188                 Office                      Parking   \n",
       "4                   69492           Retail Store                        Other   \n",
       "\n",
       "   use_stream  use_electricity  use_natural ComplianceStatus   Latitude  \\\n",
       "0         0.0              1.0          1.0        Compliant  47.606016   \n",
       "1         0.0              1.0          1.0        Compliant  47.606799   \n",
       "2         0.0              1.0          0.0        Compliant  47.621476   \n",
       "3         0.0              1.0          1.0        Compliant  47.570897   \n",
       "4         0.0              1.0          0.0        Compliant  47.661726   \n",
       "\n",
       "    Longitude  SecondLargestPropertyUseTypeGFA  ENERGYSTARScore  \\\n",
       "0 -122.335696                          39336.0             51.4   \n",
       "1 -122.337100                          31552.6             45.0   \n",
       "2 -122.343050                          47539.0             59.0   \n",
       "3 -122.297412                          21410.0             76.0   \n",
       "4 -122.317961                              0.0            100.0   \n",
       "\n",
       "   LargestPropertyUseTypeGFA  SiteEnergyUse(kBtu)_log  AgeBat  most_use_steam  \\\n",
       "0                    92310.0                25.292357      57               0   \n",
       "1                    98370.0                22.637743     109               0   \n",
       "2                   138672.0                23.998538      68               0   \n",
       "3                    55188.0                22.094100       7               0   \n",
       "4                    69800.0                18.640026      28               0   \n",
       "\n",
       "   most_use_natural  most_use_electric  \n",
       "0                 0                  1  \n",
       "1                 0                  1  \n",
       "2                 0                  1  \n",
       "3                 1                  0  \n",
       "4                 0                  1  "
      ]
     },
     "execution_count": 10,
     "metadata": {},
     "output_type": "execute_result"
    }
   ],
   "source": [
    "df.head()"
   ]
  },
  {
   "cell_type": "markdown",
   "metadata": {},
   "source": [
    "# Evaluation des modèles"
   ]
  },
  {
   "cell_type": "markdown",
   "metadata": {},
   "source": [
    "#### Pipeline"
   ]
  },
  {
   "cell_type": "code",
   "execution_count": 11,
   "metadata": {},
   "outputs": [],
   "source": [
    "from sklearn.pipeline import Pipeline\n",
    "from category_encoders import *\n",
    "from sklearn.compose import ColumnTransformer\n",
    "from sklearn.preprocessing import OneHotEncoder\n",
    "from sklearn.preprocessing import StandardScaler"
   ]
  },
  {
   "cell_type": "code",
   "execution_count": 12,
   "metadata": {},
   "outputs": [],
   "source": [
    "from sklearn.impute import SimpleImputer\n",
    "\n",
    "X = df.drop(['SiteEnergyUse(kBtu)_log'],axis=1) #TotalGHGEmissions\n",
    "y = df['SiteEnergyUse(kBtu)_log']\n",
    "\n",
    "col_int =  list(X.columns[X.dtypes == 'int64'])\n",
    "col_float = list(X.columns[X.dtypes == 'float64'])\n",
    "col_cate = list(X.columns[X.dtypes == 'object'])\n",
    "\n",
    "\n",
    "col_int_tr = Pipeline(steps = [\n",
    "   ('scaler', StandardScaler())])\n",
    "\n",
    "col_float_tr = Pipeline(steps = [\n",
    "   ('scaler', StandardScaler())])\n",
    "\n",
    "col_cate_tr = Pipeline(steps = [\n",
    "   ('lab_enc', BinaryEncoder())])\n",
    "\n",
    "\n",
    "from sklearn.compose import ColumnTransformer\n",
    "\n",
    "preprocessor = ColumnTransformer(\n",
    "   transformers=[\n",
    "       ('ints', col_int_tr, col_int),\n",
    "       ('cont', col_float_tr, col_float),\n",
    "       ('cat', col_cate_tr, col_cate)])"
   ]
  },
  {
   "cell_type": "code",
   "execution_count": 13,
   "metadata": {},
   "outputs": [],
   "source": [
    "from sklearn import dummy\n",
    "from sklearn import linear_model\n",
    "from sklearn.ensemble import AdaBoostRegressor\n",
    "from sklearn.svm import SVR\n",
    "from sklearn.ensemble import RandomForestRegressor\n",
    "from sklearn.neighbors import KNeighborsRegressor\n",
    "\n",
    "dum = Pipeline(steps=[('prepa',preprocessor),('dum',dummy.DummyRegressor(strategy='mean'))])\n",
    "forest = Pipeline(steps=[('prepa',preprocessor),('forest',RandomForestRegressor(random_state=0))])\n",
    "linear = Pipeline(steps=[('prepa',preprocessor),('linear',linear_model.LinearRegression())])\n",
    "KNN = Pipeline(steps=[('prepa',preprocessor),('kNN',KNeighborsRegressor())])\n",
    "ADA = Pipeline(steps=[('prepa',preprocessor),('ADA',AdaBoostRegressor(random_state=0,))])\n",
    "\n"
   ]
  },
  {
   "cell_type": "markdown",
   "metadata": {},
   "source": [
    "#### Séparation"
   ]
  },
  {
   "cell_type": "code",
   "execution_count": 14,
   "metadata": {},
   "outputs": [
    {
     "name": "stdout",
     "output_type": "stream",
     "text": [
      "train set:  (1348, 23)\n",
      "test set:  (337, 23)\n"
     ]
    }
   ],
   "source": [
    "from sklearn.model_selection import train_test_split\n",
    "\n",
    "X_train, X_test, y_train, y_test = train_test_split(X, y,test_size=0.2,random_state=0)\n",
    "\n",
    "print('train set: ', X_train.shape)\n",
    "print('test set: ', X_test.shape)"
   ]
  },
  {
   "cell_type": "code",
   "execution_count": 15,
   "metadata": {},
   "outputs": [],
   "source": [
    "from sklearn.model_selection import cross_validate"
   ]
  },
  {
   "cell_type": "markdown",
   "metadata": {},
   "source": [
    "#### Evaluation"
   ]
  },
  {
   "cell_type": "code",
   "execution_count": 16,
   "metadata": {},
   "outputs": [],
   "source": [
    "from sklearn.model_selection import cross_validate\n",
    "\n",
    "liste = [dum,forest,linear,KNN,ADA]\n",
    "RMSE = []\n",
    "R2 = []\n",
    "ABSOLUE = []\n",
    "FIT_TIME = []\n",
    "SCORE_TIME = []\n",
    "\n",
    "for model in liste:\n",
    "    \n",
    "    ## cross_validate\n",
    "    score = cross_validate(model,X,y,cv=3,scoring=('neg_root_mean_squared_error','r2','neg_mean_absolute_error'))\n",
    "    \n",
    "    rmse = score['test_neg_root_mean_squared_error'].mean()\n",
    "    r2 = score['test_r2'].mean()\n",
    "    absolue = score['test_neg_mean_absolute_error'].mean()\n",
    "    fit_time = score['fit_time'].mean()\n",
    "    score_time = score['score_time'].mean()\n",
    "\n",
    " \n",
    "    RMSE.append(-rmse)\n",
    "    R2.append(r2)\n",
    "    ABSOLUE.append(-absolue)\n",
    "    FIT_TIME.append(fit_time)\n",
    "    SCORE_TIME.append(score_time)"
   ]
  },
  {
   "cell_type": "code",
   "execution_count": 17,
   "metadata": {},
   "outputs": [],
   "source": [
    "df_RMSE = pd.DataFrame(RMSE)\n",
    "df_RMSE = df_RMSE.rename({0: \"RMSE\"},axis='columns')\n",
    "df_R2 = pd.DataFrame(R2)\n",
    "df_R2 = df_R2.rename({0: \"R2\"},axis='columns')\n",
    "df_absolue = pd.DataFrame(ABSOLUE)\n",
    "df_absolue = df_absolue.rename({0: \"absolue\"},axis='columns')\n",
    "df_fit_time = pd.DataFrame(FIT_TIME)\n",
    "df_fit_time = df_fit_time.rename({0: \"fit_time\"},axis='columns')\n",
    "df_score_time = pd.DataFrame(SCORE_TIME)\n",
    "df_score_time = df_score_time.rename({0: \"score_time\"},axis='columns')"
   ]
  },
  {
   "cell_type": "code",
   "execution_count": 18,
   "metadata": {},
   "outputs": [],
   "source": [
    "result_un = pd.concat([df_RMSE,df_R2,df_absolue,df_fit_time,df_score_time],axis=1)\n",
    "result_un = result_un.rename({0: \"dum\", 1: \"RandomForest\",2: \"lr\", 3: \"KNN\",4:\"adaboost\"}, axis='index')"
   ]
  },
  {
   "cell_type": "code",
   "execution_count": 19,
   "metadata": {},
   "outputs": [
    {
     "data": {
      "text/html": [
       "<div>\n",
       "<style scoped>\n",
       "    .dataframe tbody tr th:only-of-type {\n",
       "        vertical-align: middle;\n",
       "    }\n",
       "\n",
       "    .dataframe tbody tr th {\n",
       "        vertical-align: top;\n",
       "    }\n",
       "\n",
       "    .dataframe thead th {\n",
       "        text-align: right;\n",
       "    }\n",
       "</style>\n",
       "<table border=\"1\" class=\"dataframe\">\n",
       "  <thead>\n",
       "    <tr style=\"text-align: right;\">\n",
       "      <th></th>\n",
       "      <th>RMSE</th>\n",
       "      <th>R2</th>\n",
       "      <th>absolue</th>\n",
       "      <th>fit_time</th>\n",
       "      <th>score_time</th>\n",
       "    </tr>\n",
       "  </thead>\n",
       "  <tbody>\n",
       "    <tr>\n",
       "      <th>dum</th>\n",
       "      <td>2.794952</td>\n",
       "      <td>-0.117525</td>\n",
       "      <td>1.819099</td>\n",
       "      <td>0.170792</td>\n",
       "      <td>0.050391</td>\n",
       "    </tr>\n",
       "    <tr>\n",
       "      <th>RandomForest</th>\n",
       "      <td>1.642288</td>\n",
       "      <td>0.623619</td>\n",
       "      <td>0.880945</td>\n",
       "      <td>2.299668</td>\n",
       "      <td>0.078206</td>\n",
       "    </tr>\n",
       "    <tr>\n",
       "      <th>lr</th>\n",
       "      <td>2.152657</td>\n",
       "      <td>0.313386</td>\n",
       "      <td>1.261312</td>\n",
       "      <td>0.221229</td>\n",
       "      <td>0.068294</td>\n",
       "    </tr>\n",
       "    <tr>\n",
       "      <th>KNN</th>\n",
       "      <td>1.951725</td>\n",
       "      <td>0.462350</td>\n",
       "      <td>1.274382</td>\n",
       "      <td>0.185052</td>\n",
       "      <td>0.161174</td>\n",
       "    </tr>\n",
       "    <tr>\n",
       "      <th>adaboost</th>\n",
       "      <td>1.909478</td>\n",
       "      <td>0.493304</td>\n",
       "      <td>1.101464</td>\n",
       "      <td>0.461140</td>\n",
       "      <td>0.063194</td>\n",
       "    </tr>\n",
       "  </tbody>\n",
       "</table>\n",
       "</div>"
      ],
      "text/plain": [
       "                  RMSE        R2   absolue  fit_time  score_time\n",
       "dum           2.794952 -0.117525  1.819099  0.170792    0.050391\n",
       "RandomForest  1.642288  0.623619  0.880945  2.299668    0.078206\n",
       "lr            2.152657  0.313386  1.261312  0.221229    0.068294\n",
       "KNN           1.951725  0.462350  1.274382  0.185052    0.161174\n",
       "adaboost      1.909478  0.493304  1.101464  0.461140    0.063194"
      ]
     },
     "execution_count": 19,
     "metadata": {},
     "output_type": "execute_result"
    }
   ],
   "source": [
    "result_un"
   ]
  },
  {
   "cell_type": "markdown",
   "metadata": {},
   "source": [
    "#### Visualisation"
   ]
  },
  {
   "cell_type": "code",
   "execution_count": 20,
   "metadata": {},
   "outputs": [
    {
     "data": {
      "text/plain": [
       "Text(2, 0.08, 'score_time')"
      ]
     },
     "execution_count": 20,
     "metadata": {},
     "output_type": "execute_result"
    },
    {
     "data": {
      "image/png": "[encoded data removed]",
      "text/plain": [
       "<Figure size 576x720 with 5 Axes>"
      ]
     },
     "metadata": {
      "needs_background": "light"
     },
     "output_type": "display_data"
    }
   ],
   "source": [
    "premier = plt.figure(figsize=(8,10))\n",
    "plt.suptitle('Résultat métrique des différents modèles', \n",
    "              fontsize = 20, x = 0.5, y = 0.995,fontweight = 'bold')\n",
    "plt.subplot(321)\n",
    "result_un = result_un.sort_values(by='RMSE',ascending = False) \n",
    "result_un['RMSE'].plot.bar(rot=90,subplots=True,fontsize=9,color = 'red')\n",
    "plt.ylabel(\"Score RMSE\",style = 'italic',fontsize=9)\n",
    "plt.title('Score RMSE')\n",
    "\n",
    "\n",
    "plt.subplot(322)\n",
    "result_un = result_un.sort_values(by='R2',ascending = False)\n",
    "result_un['R2'].plot.bar(rot=90,subplots=True,fontsize=9,color = 'green')\n",
    "plt.ylabel(\"Score R2\",style = 'italic',fontsize=9)\n",
    "plt.title('Score R2')\n",
    "\n",
    "plt.subplot(323)\n",
    "result_un = result_un.sort_values(by='absolue',ascending = False)\n",
    "result_un['absolue'].plot.bar(rot=90,subplots=True,fontsize=9,color = 'indigo')\n",
    "plt.title(' ')\n",
    "plt.text(2, 1.50, 'Score Absolue')\n",
    "plt.ylabel('Score Absolue',style = 'italic',fontsize=9)\n",
    "\n",
    "plt.subplot(324)\n",
    "result_un = result_un.sort_values(by='fit_time',ascending = False)\n",
    "result_un['fit_time'].plot.bar(rot=90,subplots=True,fontsize=9)\n",
    "plt.title(' ')\n",
    "plt.text(2, 1.25, 'fit_time')\n",
    "\n",
    "\n",
    "plt.subplot(325)\n",
    "result_un = result_un.sort_values(by='score_time',ascending = False)\n",
    "result_un['score_time'].plot.bar(rot=90,subplots=True,fontsize=9,color='cyan')\n",
    "plt.title(' ')\n",
    "plt.text(2, 0.08, 'score_time')\n",
    "\n"
   ]
  },
  {
   "cell_type": "markdown",
   "metadata": {},
   "source": [
    "les trois meilleurs modèles sont : \n",
    "<ul>\n",
    "<li>Random Forest \n",
    "<li>adaboost\n",
    "<li>KNN\n",
    "</ul>\n"
   ]
  },
  {
   "cell_type": "markdown",
   "metadata": {},
   "source": [
    "#### Optimisation"
   ]
  },
  {
   "cell_type": "markdown",
   "metadata": {},
   "source": [
    "#### KNN"
   ]
  },
  {
   "cell_type": "code",
   "execution_count": 21,
   "metadata": {},
   "outputs": [],
   "source": [
    "from sklearn.model_selection import RandomizedSearchCV\n",
    "from scipy.stats import randint"
   ]
  },
  {
   "cell_type": "code",
   "execution_count": 22,
   "metadata": {},
   "outputs": [
    {
     "name": "stdout",
     "output_type": "stream",
     "text": [
      "Tuned Decision Tree Parameters: {'kNN__algorithm': 'auto', 'kNN__leaf_size': 31}\n",
      "Best score is 0.4674328892875052\n"
     ]
    }
   ],
   "source": [
    "param_dist = {\n",
    "              \"kNN__algorithm\": ['auto','ball_tree','kd_tree','brute'],\n",
    "              \"kNN__leaf_size\": randint(25, 40),\n",
    "              }\n",
    "\n",
    "\n",
    "# Instantiate a Decision Tree classifier: tree\n",
    "KNN = Pipeline(steps=[('prepa',preprocessor),('kNN',KNeighborsRegressor())])\n",
    "\n",
    "# Instantiate the RandomizedSearchCV object: KNN_cv\n",
    "KNN_cv = RandomizedSearchCV(KNN,param_dist,cv=3,n_iter=40)\n",
    "\n",
    "# Fit it to the data\n",
    "result_random_knn = KNN_cv.fit (X_train, y_train)\n",
    "\n",
    "# Print the tuned parameters and score\n",
    "print(\"Tuned Decision Tree Parameters: {}\".format(result_random_knn.best_params_))\n",
    "print(\"Best score is {}\".format(result_random_knn.best_score_))\n"
   ]
  },
  {
   "cell_type": "code",
   "execution_count": 23,
   "metadata": {},
   "outputs": [
    {
     "name": "stdout",
     "output_type": "stream",
     "text": [
      "Tuned Decision Tree Parameters: {'kNN__n_neighbors': 5}\n",
      "Best score is 0.4674328892875052\n"
     ]
    }
   ],
   "source": [
    "param_dist = {\n",
    "              \"kNN__n_neighbors\":randint(2,25)\n",
    "              }\n",
    "\n",
    "\n",
    "# Instantiate a Decision Tree classifier: tree\n",
    "KNN = Pipeline(steps=[('prepa',preprocessor),('kNN',KNeighborsRegressor())])\n",
    "\n",
    "# Instantiate the RandomizedSearchCV object: KNN_cv\n",
    "KNN_cv = RandomizedSearchCV(KNN,param_dist,cv=3,n_iter=40)\n",
    "\n",
    "# Fit it to the data\n",
    "result_random_knn = KNN_cv.fit (X_train, y_train)\n",
    "\n",
    "# Print the tuned parameters and score\n",
    "print(\"Tuned Decision Tree Parameters: {}\".format(result_random_knn.best_params_))\n",
    "print(\"Best score is {}\".format(result_random_knn.best_score_))"
   ]
  },
  {
   "cell_type": "code",
   "execution_count": 39,
   "metadata": {},
   "outputs": [],
   "source": [
    "KNN = Pipeline(steps=[('prepa',preprocessor),('kNN',KNeighborsRegressor(n_neighbors=7,algorithm='auto',leaf_size=31))])\n",
    "\n",
    "\n",
    "score = cross_validate(KNN ,X,y,cv=3,scoring=('neg_root_mean_squared_error','r2','neg_mean_absolute_error'))\n",
    "rmse_knn = -score['test_neg_root_mean_squared_error'].mean()\n",
    "r2_knn = score['test_r2'].mean()\n",
    "absolue_knn = -score['test_neg_mean_absolute_error'].mean()\n",
    "fit_time_knn = score['fit_time'].mean()\n",
    "score_time_knn = score['score_time'].mean()"
   ]
  },
  {
   "cell_type": "code",
   "execution_count": 40,
   "metadata": {},
   "outputs": [],
   "source": [
    "result_knn = ([rmse_knn,r2_knn,absolue_knn,score_time_knn])\n",
    "result_knn_time = ([fit_time_knn])"
   ]
  },
  {
   "cell_type": "code",
   "execution_count": 41,
   "metadata": {},
   "outputs": [
    {
     "data": {
      "image/png": "[encoded data removed]",
      "text/plain": [
       "<Figure size 432x288 with 1 Axes>"
      ]
     },
     "metadata": {
      "needs_background": "light"
     },
     "output_type": "display_data"
    }
   ],
   "source": [
    "ax = plt.bar(range(4),result_knn,width = 0.6, color = 'red')\n",
    "plt.xticks(range(4),['RMSE','R2','ABSOLUE','score_time'])\n",
    "plt.title('knn')\n",
    "for rect in ax:\n",
    "       height = rect.get_height()\n",
    "       height = np.around(height,decimals=2)\n",
    "       plt.text(rect.get_x() + rect.get_width()/2.0, height,height, ha='center', va='bottom')\n"
   ]
  },
  {
   "cell_type": "code",
   "execution_count": 27,
   "metadata": {},
   "outputs": [
    {
     "data": {
      "text/plain": [
       "[0.19890888532002768]"
      ]
     },
     "execution_count": 27,
     "metadata": {},
     "output_type": "execute_result"
    }
   ],
   "source": [
    "result_knn_time"
   ]
  },
  {
   "cell_type": "markdown",
   "metadata": {},
   "source": [
    "#### Adaboost"
   ]
  },
  {
   "cell_type": "code",
   "execution_count": 42,
   "metadata": {},
   "outputs": [
    {
     "name": "stdout",
     "output_type": "stream",
     "text": [
      "Tuned Decision Tree Parameters: {'ADA__learning_rate': 3, 'ADA__loss': 'exponential'}\n",
      "Best score is 0.4903314356856585\n"
     ]
    }
   ],
   "source": [
    "param_dist = {\n",
    "              \"ADA__learning_rate\": randint(1,10),\n",
    "              \"ADA__loss\": ['linear', 'square', 'exponential'], \n",
    "              }\n",
    "\n",
    "# Instantiate a Decision Tree classifier: tree\n",
    "ADA = Pipeline(steps=[('prepa',preprocessor),('ADA',AdaBoostRegressor(random_state=0))])\n",
    "\n",
    "# Instantiate the RandomizedSearchCV object: tree_cv\n",
    "tree_cv = RandomizedSearchCV(ADA,param_dist,cv=3,n_iter=40)\n",
    "\n",
    "# Fit it to the data\n",
    "result_random_ada = tree_cv.fit (X_train, y_train)\n",
    "\n",
    "# Print the tuned parameters and score\n",
    "print(\"Tuned Decision Tree Parameters: {}\".format(result_random_ada.best_params_))\n",
    "print(\"Best score is {}\".format(result_random_ada.best_score_))\n"
   ]
  },
  {
   "cell_type": "code",
   "execution_count": 43,
   "metadata": {},
   "outputs": [
    {
     "name": "stdout",
     "output_type": "stream",
     "text": [
      "Tuned Decision Tree Parameters: {'ADA__n_estimators': 20}\n",
      "Best score is 0.5189682881952659\n"
     ]
    }
   ],
   "source": [
    "param_dist = {\n",
    "              \"ADA__n_estimators\": randint(10, 35), #50 de base\n",
    "              }\n",
    "\n",
    "# Instantiate a Decision Tree classifier: tree\n",
    "ADA = Pipeline(steps=[('prepa',preprocessor),('ADA',AdaBoostRegressor(random_state=0))])\n",
    "\n",
    "# Instantiate the RandomizedSearchCV object: tree_cv\n",
    "tree_cv = RandomizedSearchCV(ADA,param_dist,cv=3,n_iter=40)\n",
    "\n",
    "# Fit it to the data\n",
    "result_random_ada = tree_cv.fit (X_train, y_train)\n",
    "\n",
    "# Print the tuned parameters and score\n",
    "print(\"Tuned Decision Tree Parameters: {}\".format(result_random_ada.best_params_))\n",
    "print(\"Best score is {}\".format(result_random_ada.best_score_))"
   ]
  },
  {
   "cell_type": "code",
   "execution_count": 44,
   "metadata": {},
   "outputs": [],
   "source": [
    "ada = Pipeline(steps=[('prepa',preprocessor),('ADA',AdaBoostRegressor(n_estimators=20, learning_rate=3, loss='exponential'\n",
    "                                                                       ))])\n",
    "\n",
    "\n",
    "score = cross_validate(ada,X,y,cv=3,scoring=('neg_root_mean_squared_error','r2','neg_mean_absolute_error'))\n",
    "rmse_ada = -score['test_neg_root_mean_squared_error'].mean()\n",
    "r2_ada = score['test_r2'].mean()\n",
    "absolue_ada = -score['test_neg_mean_absolute_error'].mean()\n",
    "fit_time_ada = score['fit_time'].mean()\n",
    "score_time_ada = score['score_time'].mean()"
   ]
  },
  {
   "cell_type": "code",
   "execution_count": 45,
   "metadata": {},
   "outputs": [],
   "source": [
    "result_ada = ([rmse_ada,r2_ada,absolue_ada,score_time_ada])\n",
    "result_ada_time = ([fit_time_ada])"
   ]
  },
  {
   "cell_type": "code",
   "execution_count": 46,
   "metadata": {},
   "outputs": [
    {
     "data": {
      "image/png": "[encoded data removed]",
      "text/plain": [
       "<Figure size 432x288 with 1 Axes>"
      ]
     },
     "metadata": {
      "needs_background": "light"
     },
     "output_type": "display_data"
    }
   ],
   "source": [
    "test = plt.bar(range(4),result_ada,width = 0.6, color = 'red')\n",
    "plt.xticks(range(4),['RMSE','R2','ABSOLUE','score_time'])\n",
    "plt.title('ada')\n",
    "for rect in test:\n",
    "       height = rect.get_height()\n",
    "       height = np.around(height,decimals=2)\n",
    "       plt.text(rect.get_x() + rect.get_width()/2.0, height,height, ha='center', va='bottom')"
   ]
  },
  {
   "cell_type": "markdown",
   "metadata": {},
   "source": [
    "#### Random forest "
   ]
  },
  {
   "cell_type": "code",
   "execution_count": 47,
   "metadata": {},
   "outputs": [
    {
     "name": "stdout",
     "output_type": "stream",
     "text": [
      "Tuned Decision Tree Parameters: {'forest__bootstrap': 'true', 'forest__min_samples_leaf': 1}\n",
      "Best score is 0.6289948952726722\n"
     ]
    }
   ],
   "source": [
    "param_dist = {\n",
    "              \"forest__min_samples_leaf\": randint(1, 9), #2 de base\n",
    "              \"forest__bootstrap\":(\"true\",\"false\")\n",
    "              }\n",
    "\n",
    "# Instantiate a Decision Tree classifier: tree\n",
    "forest = Pipeline(steps=[('prepa',preprocessor),('forest',RandomForestRegressor(random_state=0))])\n",
    "\n",
    "# Instantiate the RandomizedSearchCV object: tree_cv\n",
    "forest_cv = RandomizedSearchCV(forest,param_dist,cv=3,n_iter=40)\n",
    "\n",
    "# Fit it to the data\n",
    "forest_cv = forest_cv.fit (X_train, y_train)\n",
    "\n",
    "# Print the tuned parameters and score\n",
    "print(\"Tuned Decision Tree Parameters: {}\".format(forest_cv.best_params_))\n",
    "print(\"Best score is {}\".format(forest_cv.best_score_))"
   ]
  },
  {
   "cell_type": "code",
   "execution_count": 48,
   "metadata": {},
   "outputs": [
    {
     "name": "stdout",
     "output_type": "stream",
     "text": [
      "Tuned Decision Tree Parameters: {'forest__n_estimators': 136}\n",
      "Best score is 0.6347142943628762\n"
     ]
    }
   ],
   "source": [
    "param_dist = {\"forest__n_estimators\" : randint(80, 160) #100 de base\n",
    "              }\n",
    "\n",
    "# Instantiate a Decision Tree classifier: tree\n",
    "forest = Pipeline(steps=[('prepa',preprocessor),('forest',RandomForestRegressor(random_state=0))])\n",
    "\n",
    "# Instantiate the RandomizedSearchCV object: tree_cv\n",
    "forest_cv = RandomizedSearchCV(forest,param_dist,cv=3,n_iter=40)\n",
    "\n",
    "# Fit it to the data\n",
    "forest_cv = forest_cv.fit (X_train, y_train)\n",
    "\n",
    "# Print the tuned parameters and score\n",
    "print(\"Tuned Decision Tree Parameters: {}\".format(forest_cv.best_params_))\n",
    "print(\"Best score is {}\".format(forest_cv.best_score_))"
   ]
  },
  {
   "cell_type": "code",
   "execution_count": 52,
   "metadata": {},
   "outputs": [],
   "source": [
    "forest_max = Pipeline(steps=[('prepa',preprocessor),('forest',RandomForestRegressor(n_estimators=134,bootstrap=\"True\",\n",
    "                                                                               min_samples_leaf=1\n",
    "                                                                              ))])\n",
    "\n",
    "score = cross_validate(forest_max,X,y,cv=3,scoring=('neg_root_mean_squared_error','r2','neg_mean_absolute_error'))\n",
    "rmse_forest = -score['test_neg_root_mean_squared_error'].mean()\n",
    "r2_forest = score['test_r2'].mean()\n",
    "absolue_forest = -score['test_neg_mean_absolute_error'].mean()\n",
    "fit_time_forest = score['fit_time'].mean()\n",
    "score_time_forest = score['score_time'].mean()"
   ]
  },
  {
   "cell_type": "code",
   "execution_count": 53,
   "metadata": {},
   "outputs": [],
   "source": [
    "result_forest = ([rmse_forest,r2_forest,absolue_forest,score_time_forest])\n",
    "result_forest_time = ([fit_time_forest])"
   ]
  },
  {
   "cell_type": "code",
   "execution_count": 54,
   "metadata": {},
   "outputs": [
    {
     "data": {
      "image/png": "[encoded data removed]",
      "text/plain": [
       "<Figure size 432x288 with 1 Axes>"
      ]
     },
     "metadata": {
      "needs_background": "light"
     },
     "output_type": "display_data"
    }
   ],
   "source": [
    "test = plt.bar(range(4),result_forest,width = 0.6, color = 'red')\n",
    "plt.xticks(range(4),['RMSE','R2','ABSOLUE','score_time'])\n",
    "plt.title('forest')\n",
    "for rect in test:\n",
    "       height = rect.get_height()\n",
    "       height = np.around(height,decimals=2)\n",
    "       plt.text(rect.get_x() + rect.get_width()/2.0, height,height, ha='center', va='bottom')"
   ]
  },
  {
   "cell_type": "code",
   "execution_count": 55,
   "metadata": {},
   "outputs": [
    {
     "data": {
      "text/plain": [
       "[3.0068934758504233]"
      ]
     },
     "execution_count": 55,
     "metadata": {},
     "output_type": "execute_result"
    }
   ],
   "source": [
    "result_forest_time"
   ]
  },
  {
   "cell_type": "markdown",
   "metadata": {},
   "source": [
    "#### Comparaison des 3 modèles"
   ]
  },
  {
   "cell_type": "code",
   "execution_count": 56,
   "metadata": {},
   "outputs": [],
   "source": [
    "result_knn = pd.DataFrame(result_knn)\n",
    "result_knn = result_knn.rename({0: \"KNN\"},axis='columns')\n",
    "result_ada = pd.DataFrame(result_ada)\n",
    "result_ada = result_ada.rename({0: \"adaboost\"},axis='columns')\n",
    "result_forest = pd.DataFrame(result_forest)\n",
    "result_forest = result_forest.rename({0: \"RandomForest\"},axis='columns')\n",
    "\n",
    "\n",
    "result_deux = pd.concat([result_knn,result_ada,result_forest],axis=1)\n",
    "result_deux  = result_deux.rename({0: \"RMSE_apres\", 1: \"R2_apres\",2: \"absolue_apres\",3:\"score_time_apres\"}, axis='index')\n"
   ]
  },
  {
   "cell_type": "code",
   "execution_count": 57,
   "metadata": {},
   "outputs": [
    {
     "data": {
      "text/html": [
       "<div>\n",
       "<style scoped>\n",
       "    .dataframe tbody tr th:only-of-type {\n",
       "        vertical-align: middle;\n",
       "    }\n",
       "\n",
       "    .dataframe tbody tr th {\n",
       "        vertical-align: top;\n",
       "    }\n",
       "\n",
       "    .dataframe thead th {\n",
       "        text-align: right;\n",
       "    }\n",
       "</style>\n",
       "<table border=\"1\" class=\"dataframe\">\n",
       "  <thead>\n",
       "    <tr style=\"text-align: right;\">\n",
       "      <th></th>\n",
       "      <th>KNN</th>\n",
       "      <th>adaboost</th>\n",
       "      <th>RandomForest</th>\n",
       "    </tr>\n",
       "  </thead>\n",
       "  <tbody>\n",
       "    <tr>\n",
       "      <th>RMSE_apres</th>\n",
       "      <td>1.923662</td>\n",
       "      <td>1.795132</td>\n",
       "      <td>1.608546</td>\n",
       "    </tr>\n",
       "    <tr>\n",
       "      <th>R2_apres</th>\n",
       "      <td>0.480877</td>\n",
       "      <td>0.538862</td>\n",
       "      <td>0.638071</td>\n",
       "    </tr>\n",
       "    <tr>\n",
       "      <th>absolue_apres</th>\n",
       "      <td>1.277812</td>\n",
       "      <td>1.048412</td>\n",
       "      <td>0.874462</td>\n",
       "    </tr>\n",
       "    <tr>\n",
       "      <th>score_time_apres</th>\n",
       "      <td>0.158362</td>\n",
       "      <td>0.067107</td>\n",
       "      <td>0.088930</td>\n",
       "    </tr>\n",
       "  </tbody>\n",
       "</table>\n",
       "</div>"
      ],
      "text/plain": [
       "                       KNN  adaboost  RandomForest\n",
       "RMSE_apres        1.923662  1.795132      1.608546\n",
       "R2_apres          0.480877  0.538862      0.638071\n",
       "absolue_apres     1.277812  1.048412      0.874462\n",
       "score_time_apres  0.158362  0.067107      0.088930"
      ]
     },
     "execution_count": 57,
     "metadata": {},
     "output_type": "execute_result"
    }
   ],
   "source": [
    "result_deux"
   ]
  },
  {
   "cell_type": "code",
   "execution_count": 58,
   "metadata": {},
   "outputs": [
    {
     "data": {
      "text/plain": [
       "<matplotlib.legend.Legend at 0x148c37e9dc8>"
      ]
     },
     "execution_count": 58,
     "metadata": {},
     "output_type": "execute_result"
    },
    {
     "data": {
      "image/png": "[encoded data removed]",
      "text/plain": [
       "<Figure size 432x288 with 1 Axes>"
      ]
     },
     "metadata": {
      "needs_background": "light"
     },
     "output_type": "display_data"
    }
   ],
   "source": [
    "data = result_deux \n",
    "x = np.arange(4)\n",
    "fig = plt.figure()\n",
    "ax = fig.add_axes([0,0,1,1])\n",
    "rects1 = ax.bar(x + 0.00, data['KNN'], color = 'b', width = 0.25)\n",
    "rects2 = ax.bar(x + 0.25, data['adaboost'], color = 'g', width = 0.25)\n",
    "rects3 = ax.bar(x + 0.50, data['RandomForest'], color = 'r', width = 0.25)\n",
    "\n",
    "plt.xticks(range(0, 4),['RMSE','R2','ABSOLUE','score_time'])\n",
    "ax.legend(labels=['KNN', 'adaboost','RandomForest'])\n"
   ]
  },
  {
   "cell_type": "code",
   "execution_count": 59,
   "metadata": {},
   "outputs": [],
   "source": [
    "result_time = ([result_knn_time,result_ada_time,result_forest_time])\n",
    "result_time = pd.DataFrame(result_time)\n",
    "result_time = result_time.rename({0: \"fit_time\"},axis='columns')\n",
    "result_time = result_time.rename({0: \"knn\",1:\"ada\",2:\"forest\"},axis='index')"
   ]
  },
  {
   "cell_type": "code",
   "execution_count": 60,
   "metadata": {},
   "outputs": [
    {
     "data": {
      "text/plain": [
       "array([<matplotlib.axes._subplots.AxesSubplot object at 0x00000148C368F248>],\n",
       "      dtype=object)"
      ]
     },
     "execution_count": 60,
     "metadata": {},
     "output_type": "execute_result"
    },
    {
     "data": {
      "image/png": "[encoded data removed]",
      "text/plain": [
       "<Figure size 432x288 with 1 Axes>"
      ]
     },
     "metadata": {
      "needs_background": "light"
     },
     "output_type": "display_data"
    }
   ],
   "source": [
    "result_time['fit_time'].plot.bar(rot=90,subplots=True,fontsize=9,color = 'red')"
   ]
  },
  {
   "cell_type": "markdown",
   "metadata": {},
   "source": [
    "#### comparaison avant et après amélioration des paramètres"
   ]
  },
  {
   "cell_type": "code",
   "execution_count": 61,
   "metadata": {},
   "outputs": [],
   "source": [
    "result_un = result_un.drop(['dum','lr'],axis=0)\n",
    "result_un = result_un.drop(['score_time'],axis=1)"
   ]
  },
  {
   "cell_type": "code",
   "execution_count": 62,
   "metadata": {},
   "outputs": [],
   "source": [
    "result_deux = result_deux.T"
   ]
  },
  {
   "cell_type": "code",
   "execution_count": 63,
   "metadata": {},
   "outputs": [
    {
     "data": {
      "text/html": [
       "<div>\n",
       "<style scoped>\n",
       "    .dataframe tbody tr th:only-of-type {\n",
       "        vertical-align: middle;\n",
       "    }\n",
       "\n",
       "    .dataframe tbody tr th {\n",
       "        vertical-align: top;\n",
       "    }\n",
       "\n",
       "    .dataframe thead th {\n",
       "        text-align: right;\n",
       "    }\n",
       "</style>\n",
       "<table border=\"1\" class=\"dataframe\">\n",
       "  <thead>\n",
       "    <tr style=\"text-align: right;\">\n",
       "      <th></th>\n",
       "      <th>RMSE</th>\n",
       "      <th>R2</th>\n",
       "      <th>absolue</th>\n",
       "      <th>fit_time</th>\n",
       "    </tr>\n",
       "  </thead>\n",
       "  <tbody>\n",
       "    <tr>\n",
       "      <th>KNN</th>\n",
       "      <td>1.951725</td>\n",
       "      <td>0.462350</td>\n",
       "      <td>1.274382</td>\n",
       "      <td>0.185052</td>\n",
       "    </tr>\n",
       "    <tr>\n",
       "      <th>RandomForest</th>\n",
       "      <td>1.642288</td>\n",
       "      <td>0.623619</td>\n",
       "      <td>0.880945</td>\n",
       "      <td>2.299668</td>\n",
       "    </tr>\n",
       "    <tr>\n",
       "      <th>adaboost</th>\n",
       "      <td>1.909478</td>\n",
       "      <td>0.493304</td>\n",
       "      <td>1.101464</td>\n",
       "      <td>0.461140</td>\n",
       "    </tr>\n",
       "  </tbody>\n",
       "</table>\n",
       "</div>"
      ],
      "text/plain": [
       "                  RMSE        R2   absolue  fit_time\n",
       "KNN           1.951725  0.462350  1.274382  0.185052\n",
       "RandomForest  1.642288  0.623619  0.880945  2.299668\n",
       "adaboost      1.909478  0.493304  1.101464  0.461140"
      ]
     },
     "execution_count": 63,
     "metadata": {},
     "output_type": "execute_result"
    }
   ],
   "source": [
    "result_un"
   ]
  },
  {
   "cell_type": "code",
   "execution_count": 64,
   "metadata": {},
   "outputs": [],
   "source": [
    "result_comparaison = pd.concat([result_un,result_deux],axis=1)"
   ]
  },
  {
   "cell_type": "code",
   "execution_count": 65,
   "metadata": {},
   "outputs": [
    {
     "data": {
      "text/html": [
       "<div>\n",
       "<style scoped>\n",
       "    .dataframe tbody tr th:only-of-type {\n",
       "        vertical-align: middle;\n",
       "    }\n",
       "\n",
       "    .dataframe tbody tr th {\n",
       "        vertical-align: top;\n",
       "    }\n",
       "\n",
       "    .dataframe thead th {\n",
       "        text-align: right;\n",
       "    }\n",
       "</style>\n",
       "<table border=\"1\" class=\"dataframe\">\n",
       "  <thead>\n",
       "    <tr style=\"text-align: right;\">\n",
       "      <th></th>\n",
       "      <th>RMSE</th>\n",
       "      <th>R2</th>\n",
       "      <th>absolue</th>\n",
       "      <th>fit_time</th>\n",
       "      <th>RMSE_apres</th>\n",
       "      <th>R2_apres</th>\n",
       "      <th>absolue_apres</th>\n",
       "      <th>score_time_apres</th>\n",
       "    </tr>\n",
       "  </thead>\n",
       "  <tbody>\n",
       "    <tr>\n",
       "      <th>KNN</th>\n",
       "      <td>1.951725</td>\n",
       "      <td>0.462350</td>\n",
       "      <td>1.274382</td>\n",
       "      <td>0.185052</td>\n",
       "      <td>1.923662</td>\n",
       "      <td>0.480877</td>\n",
       "      <td>1.277812</td>\n",
       "      <td>0.158362</td>\n",
       "    </tr>\n",
       "    <tr>\n",
       "      <th>RandomForest</th>\n",
       "      <td>1.642288</td>\n",
       "      <td>0.623619</td>\n",
       "      <td>0.880945</td>\n",
       "      <td>2.299668</td>\n",
       "      <td>1.608546</td>\n",
       "      <td>0.638071</td>\n",
       "      <td>0.874462</td>\n",
       "      <td>0.088930</td>\n",
       "    </tr>\n",
       "    <tr>\n",
       "      <th>adaboost</th>\n",
       "      <td>1.909478</td>\n",
       "      <td>0.493304</td>\n",
       "      <td>1.101464</td>\n",
       "      <td>0.461140</td>\n",
       "      <td>1.795132</td>\n",
       "      <td>0.538862</td>\n",
       "      <td>1.048412</td>\n",
       "      <td>0.067107</td>\n",
       "    </tr>\n",
       "  </tbody>\n",
       "</table>\n",
       "</div>"
      ],
      "text/plain": [
       "                  RMSE        R2   absolue  fit_time  RMSE_apres  R2_apres  \\\n",
       "KNN           1.951725  0.462350  1.274382  0.185052    1.923662  0.480877   \n",
       "RandomForest  1.642288  0.623619  0.880945  2.299668    1.608546  0.638071   \n",
       "adaboost      1.909478  0.493304  1.101464  0.461140    1.795132  0.538862   \n",
       "\n",
       "              absolue_apres  score_time_apres  \n",
       "KNN                1.277812          0.158362  \n",
       "RandomForest       0.874462          0.088930  \n",
       "adaboost           1.048412          0.067107  "
      ]
     },
     "execution_count": 65,
     "metadata": {},
     "output_type": "execute_result"
    }
   ],
   "source": [
    "result_comparaison"
   ]
  },
  {
   "cell_type": "code",
   "execution_count": 66,
   "metadata": {},
   "outputs": [
    {
     "data": {
      "text/plain": [
       "<matplotlib.legend.Legend at 0x148c3726348>"
      ]
     },
     "execution_count": 66,
     "metadata": {},
     "output_type": "execute_result"
    },
    {
     "data": {
      "image/png": "[encoded data removed]",
      "text/plain": [
       "<Figure size 432x288 with 1 Axes>"
      ]
     },
     "metadata": {
      "needs_background": "light"
     },
     "output_type": "display_data"
    }
   ],
   "source": [
    "labels = ['knn', 'forest', 'adaboost']\n",
    "rmse = result_comparaison['RMSE']\n",
    "rmse_apres = result_comparaison['RMSE_apres']\n",
    "\n",
    "x = np.arange(len(labels))  # the label locations\n",
    "width = 0.35  # the width of the bars\n",
    "\n",
    "fig, ax = plt.subplots()\n",
    "rects1 = ax.bar(x - width/2, rmse, width, label='rmse')\n",
    "rects2 = ax.bar(x + width/2, rmse_apres, width, label='rmse_après')\n",
    "\n",
    "ax.set_ylabel('Scores')\n",
    "ax.set_title('Scores  rmse')\n",
    "ax.set_xticks(x)\n",
    "ax.set_xticklabels(labels)\n",
    "ax.legend()"
   ]
  },
  {
   "cell_type": "code",
   "execution_count": 67,
   "metadata": {},
   "outputs": [
    {
     "data": {
      "text/plain": [
       "<matplotlib.legend.Legend at 0x148c37fba88>"
      ]
     },
     "execution_count": 67,
     "metadata": {},
     "output_type": "execute_result"
    },
    {
     "data": {
      "image/png": "[encoded data removed]",
      "text/plain": [
       "<Figure size 432x288 with 1 Axes>"
      ]
     },
     "metadata": {
      "needs_background": "light"
     },
     "output_type": "display_data"
    }
   ],
   "source": [
    "labels = ['knn', 'forest', 'adaboost']\n",
    "rmse = result_comparaison['R2']\n",
    "rmse_apres = result_comparaison['R2_apres']\n",
    "\n",
    "x = np.arange(len(labels))  # the label locations\n",
    "width = 0.35  # the width of the bars\n",
    "\n",
    "fig, ax = plt.subplots()\n",
    "rects1 = ax.bar(x - width/2, rmse, width, label='R2')\n",
    "rects2 = ax.bar(x + width/2, rmse_apres, width, label='R2_après')\n",
    "\n",
    "ax.set_ylabel('Scores')\n",
    "ax.set_title('Scores  R2')\n",
    "ax.set_xticks(x)\n",
    "ax.set_xticklabels(labels)\n",
    "ax.legend()"
   ]
  },
  {
   "cell_type": "code",
   "execution_count": 68,
   "metadata": {},
   "outputs": [
    {
     "data": {
      "text/plain": [
       "<matplotlib.legend.Legend at 0x148c3b58d88>"
      ]
     },
     "execution_count": 68,
     "metadata": {},
     "output_type": "execute_result"
    },
    {
     "data": {
      "image/png": "[encoded data removed]",
      "text/plain": [
       "<Figure size 432x288 with 1 Axes>"
      ]
     },
     "metadata": {
      "needs_background": "light"
     },
     "output_type": "display_data"
    }
   ],
   "source": [
    "labels = ['knn', 'forest', 'adaboost']\n",
    "rmse = result_comparaison['absolue']\n",
    "rmse_apres = result_comparaison['absolue_apres']\n",
    "\n",
    "x = np.arange(len(labels))  # the label locations\n",
    "width = 0.35  # the width of the bars\n",
    "\n",
    "fig, ax = plt.subplots()\n",
    "rects1 = ax.bar(x - width/2, rmse, width, label='absolue')\n",
    "rects2 = ax.bar(x + width/2, rmse_apres, width, label='absolue_après')\n",
    "\n",
    "ax.set_ylabel('Scores')\n",
    "ax.set_title('Scores  absolue')\n",
    "ax.set_xticks(x)\n",
    "ax.set_xticklabels(labels)\n",
    "ax.legend()"
   ]
  },
  {
   "cell_type": "code",
   "execution_count": 69,
   "metadata": {},
   "outputs": [
    {
     "data": {
      "text/plain": [
       "<matplotlib.legend.Legend at 0x148c3c076c8>"
      ]
     },
     "execution_count": 69,
     "metadata": {},
     "output_type": "execute_result"
    },
    {
     "data": {
      "image/png": "[encoded data removed]",
      "text/plain": [
       "<Figure size 432x288 with 1 Axes>"
      ]
     },
     "metadata": {
      "needs_background": "light"
     },
     "output_type": "display_data"
    }
   ],
   "source": [
    "labels = ['knn', 'forest', 'adaboost']\n",
    "rmse = result_comparaison['fit_time']\n",
    "rmse_apres = result_comparaison['score_time_apres']\n",
    "\n",
    "x = np.arange(len(labels))  # the label locations\n",
    "width = 0.35  # the width of the bars\n",
    "\n",
    "fig, ax = plt.subplots()\n",
    "rects1 = ax.bar(x - width/2, rmse, width, label='fit_time')\n",
    "rects2 = ax.bar(x + width/2, rmse_apres, width, label='fit_time_après')\n",
    "\n",
    "ax.set_ylabel('Scores')\n",
    "ax.set_title('Scores  fit_time')\n",
    "ax.set_xticks(x)\n",
    "ax.set_xticklabels(labels)\n",
    "ax.legend()"
   ]
  },
  {
   "cell_type": "markdown",
   "metadata": {},
   "source": [
    "#### Courbes d'apprentissage"
   ]
  },
  {
   "cell_type": "code",
   "execution_count": 70,
   "metadata": {},
   "outputs": [
    {
     "name": "stdout",
     "output_type": "stream",
     "text": [
      "[ 89 179 269 359 449 538 628 718 808 898]\n"
     ]
    },
    {
     "data": {
      "text/plain": [
       "<matplotlib.legend.Legend at 0x148c7e1ffc8>"
      ]
     },
     "execution_count": 70,
     "metadata": {},
     "output_type": "execute_result"
    },
    {
     "data": {
      "image/png": "[encoded data removed]",
      "text/plain": [
       "<Figure size 432x288 with 1 Axes>"
      ]
     },
     "metadata": {
      "needs_background": "light"
     },
     "output_type": "display_data"
    }
   ],
   "source": [
    "from sklearn.model_selection import learning_curve\n",
    "KNN = Pipeline(steps=[('prepa',preprocessor),('kNN',KNeighborsRegressor(n_neighbors=7,algorithm='auto',leaf_size=31))])\n",
    "\n",
    "N, train_score, val_score = learning_curve(KNN, X_train, y_train,\n",
    "                                           train_sizes=np.linspace(0.1, 1, 10), cv=3)\n",
    "\n",
    "print(N)\n",
    "plt.plot(N, train_score.mean(axis=1), label='train')\n",
    "plt.plot(N, val_score.mean(axis=1), label='validation')\n",
    "plt.xlabel('train_sizes')\n",
    "plt.title('knn')\n",
    "plt.legend()"
   ]
  },
  {
   "cell_type": "code",
   "execution_count": 71,
   "metadata": {},
   "outputs": [
    {
     "name": "stdout",
     "output_type": "stream",
     "text": [
      "[ 89 179 269 359 449 538 628 718 808 898]\n"
     ]
    },
    {
     "data": {
      "text/plain": [
       "<matplotlib.legend.Legend at 0x148c7e2c308>"
      ]
     },
     "execution_count": 71,
     "metadata": {},
     "output_type": "execute_result"
    },
    {
     "data": {
      "image/png": "[encoded data removed]",
      "text/plain": [
       "<Figure size 432x288 with 1 Axes>"
      ]
     },
     "metadata": {
      "needs_background": "light"
     },
     "output_type": "display_data"
    }
   ],
   "source": [
    "from sklearn.model_selection import learning_curve\n",
    "forest = Pipeline(steps=[('prepa',preprocessor),('forest',RandomForestRegressor(n_estimators=134,bootstrap=\"False\",\n",
    "                                                                               min_samples_leaf=1\n",
    "                                                                              ))])\n",
    "\n",
    "N, train_score, val_score = learning_curve(forest, X_train, y_train,\n",
    "                                           train_sizes=np.linspace(0.1, 1, 10), cv=3)\n",
    "\n",
    "print(N)\n",
    "plt.plot(N, train_score.mean(axis=1), label='train')\n",
    "plt.plot(N, val_score.mean(axis=1), label='validation')\n",
    "plt.xlabel('train_sizes')\n",
    "plt.title('RandomForest')\n",
    "plt.legend()"
   ]
  },
  {
   "cell_type": "code",
   "execution_count": 72,
   "metadata": {},
   "outputs": [
    {
     "name": "stdout",
     "output_type": "stream",
     "text": [
      "[ 89 179 269 359 449 538 628 718 808 898]\n"
     ]
    },
    {
     "data": {
      "text/plain": [
       "<matplotlib.legend.Legend at 0x148c7eaaa08>"
      ]
     },
     "execution_count": 72,
     "metadata": {},
     "output_type": "execute_result"
    },
    {
     "data": {
      "image/png": "[encoded data removed]",
      "text/plain": [
       "<Figure size 432x288 with 1 Axes>"
      ]
     },
     "metadata": {
      "needs_background": "light"
     },
     "output_type": "display_data"
    }
   ],
   "source": [
    "from sklearn.model_selection import learning_curve\n",
    "ada = Pipeline(steps=[('prepa',preprocessor),('ADA',AdaBoostRegressor(n_estimators=20, learning_rate=3, loss='exponential'\n",
    "                                                                       ))])\n",
    "\n",
    "N, train_score, val_score = learning_curve(ada, X_train, y_train,\n",
    "                                           train_sizes=np.linspace(0.1, 1, 10), cv=3)\n",
    "\n",
    "print(N)\n",
    "plt.plot(N, train_score.mean(axis=1), label='train')\n",
    "plt.plot(N, val_score.mean(axis=1), label='validation')\n",
    "plt.xlabel('train_sizes')\n",
    "plt.title('adaboost')\n",
    "plt.legend()"
   ]
  },
  {
   "cell_type": "markdown",
   "metadata": {},
   "source": [
    "#### Meilleurs variables pour Random forest"
   ]
  },
  {
   "cell_type": "markdown",
   "metadata": {},
   "source": [
    "#### les meilleurs features pour Random forest"
   ]
  },
  {
   "cell_type": "code",
   "execution_count": 73,
   "metadata": {},
   "outputs": [],
   "source": [
    "nom = []\n",
    "feature = []\n",
    "from sklearn.inspection import permutation_importance\n",
    "r = permutation_importance(forest_max, X_train, y_train,\n",
    "                            n_repeats=30,\n",
    "                            random_state=0)\n",
    "\n",
    "for i in r.importances_mean.argsort()[::-1]:\n",
    "     if r.importances_mean[i] - 2 * r.importances_std[i] > 0:\n",
    "            nom.append([\n",
    "            X.columns[i]])\n",
    "            feature.append([\n",
    "            r.importances_mean[i]])      "
   ]
  },
  {
   "cell_type": "code",
   "execution_count": 74,
   "metadata": {},
   "outputs": [],
   "source": [
    "nom = pd.DataFrame(nom)\n",
    "nom = nom.rename({0: \"nom\"},axis='columns')\n",
    "feature = pd.DataFrame(feature)\n",
    "feature = feature.rename({0: \"feature\"},axis='columns')\n",
    "best_features = pd.concat([nom,feature],axis=1)\n",
    "best_features = best_features.set_index('nom')"
   ]
  },
  {
   "cell_type": "code",
   "execution_count": 75,
   "metadata": {},
   "outputs": [
    {
     "data": {
      "text/plain": [
       "Text(0.5, 1.0, 'score features')"
      ]
     },
     "execution_count": 75,
     "metadata": {},
     "output_type": "execute_result"
    },
    {
     "data": {
      "image/png": "[encoded data removed]",
      "text/plain": [
       "<Figure size 432x288 with 1 Axes>"
      ]
     },
     "metadata": {
      "needs_background": "light"
     },
     "output_type": "display_data"
    }
   ],
   "source": [
    "best_features['feature'].plot.bar(rot=90,subplots=True,fontsize=9,color = 'red')\n",
    "plt.ylabel(\"score feature\",style = 'italic',fontsize=9)\n",
    "plt.title('score features')"
   ]
  },
  {
   "cell_type": "markdown",
   "metadata": {},
   "source": [
    "#### Creer un dataset avec les meilleurs features"
   ]
  },
  {
   "cell_type": "code",
   "execution_count": 80,
   "metadata": {},
   "outputs": [],
   "source": [
    "columns = [\"PropertyGFABuilding(s)\",\"ComplianceStatus\",\"use_electricity\",\"LargestPropertyUseType\",\n",
    "           \"LargestPropertyUseTypeGFA\",\"use_natural\",\"BuildingType\",\"PrimaryPropertyType\",\n",
    "           \"SiteEnergyUse(kBtu)_log\",\"ENERGYSTARScore\"] \n",
    "# enlerver ENERGYSTARScore (si on veut voir le score sans)\n",
    "# changer la targuet SiteEnergyUse(kBtu)_log / TotalGHGEmissions_log (si on veut voir l'autre targuet)\n",
    "\n",
    "df_final = pd.DataFrame(df_final, columns=columns)"
   ]
  },
  {
   "cell_type": "code",
   "execution_count": 81,
   "metadata": {},
   "outputs": [],
   "source": [
    "X = df_final.drop(['SiteEnergyUse(kBtu)_log'],axis=1) ## \n",
    "y = df_final['SiteEnergyUse(kBtu)_log']\n",
    "\n",
    "col_int =  list(X.columns[X.dtypes == 'int64'])\n",
    "col_float = list(X.columns[X.dtypes == 'float64'])\n",
    "col_cate = list(X.columns[X.dtypes == 'object'])\n",
    "\n",
    "\n",
    "col_int_tr = Pipeline(steps = [\n",
    "   ('imputer', SimpleImputer(strategy = 'most_frequent')),\n",
    "   ('scaler', StandardScaler())])\n",
    "\n",
    "col_float_tr = Pipeline(steps = [\n",
    "   ('imputer', SimpleImputer(strategy = 'most_frequent')),\n",
    "   ('scaler', StandardScaler())])\n",
    "\n",
    "col_cate_tr = Pipeline(steps = [\n",
    "   ('imputer', SimpleImputer(strategy = 'most_frequent')),\n",
    "   ('lab_enc', BinaryEncoder())])\n",
    "\n",
    "from sklearn.compose import ColumnTransformer\n",
    "\n",
    "preprocessor = ColumnTransformer(\n",
    "   transformers=[\n",
    "       ('ints', col_int_tr, col_int),\n",
    "       ('cont', col_float_tr, col_float),\n",
    "       ('cat', col_cate_tr, col_cate)])"
   ]
  },
  {
   "cell_type": "code",
   "execution_count": 82,
   "metadata": {},
   "outputs": [
    {
     "name": "stdout",
     "output_type": "stream",
     "text": [
      "train set:  (1348, 9)\n",
      "test set:  (337, 9)\n"
     ]
    }
   ],
   "source": [
    "from sklearn.model_selection import train_test_split\n",
    "\n",
    "X_train, X_test, y_train, y_test = train_test_split(X, y,test_size=0.2,random_state=0)\n",
    "\n",
    "print('train set: ', X_train.shape)\n",
    "print('test set: ', X_test.shape)"
   ]
  },
  {
   "cell_type": "markdown",
   "metadata": {},
   "source": [
    "#### Evaluation finale"
   ]
  },
  {
   "cell_type": "code",
   "execution_count": 84,
   "metadata": {},
   "outputs": [
    {
     "name": "stdout",
     "output_type": "stream",
     "text": [
      "rmse:  1.8885660382511082\n",
      "R2:  0.6624590451415628\n"
     ]
    }
   ],
   "source": [
    "from sklearn import metrics\n",
    "from sklearn.metrics import mean_squared_error\n",
    "from sklearn.metrics import r2_score\n",
    "\n",
    "\n",
    "forest = Pipeline(steps=[('prepa',preprocessor),('forest',RandomForestRegressor(n_estimators=134,bootstrap=\"False\",\n",
    "                                                                               min_samples_leaf=1\n",
    "                                                                              ))])\n",
    "\n",
    "# Fit it to the data\n",
    "forest = forest.fit (X_train, y_train)\n",
    "y_pred = forest.predict(X_test)\n",
    "\n",
    "forest.score(X_test, y_test)\n",
    "\n",
    "print(\"rmse: \",mean_squared_error(y_test, y_pred, squared=False))\n",
    "print(\"R2: \",r2_score(y_test, y_pred))\n"
   ]
  },
  {
   "cell_type": "code",
   "execution_count": null,
   "metadata": {},
   "outputs": [],
   "source": []
  },
  {
   "cell_type": "markdown",
   "metadata": {},
   "source": [
    "Pour conclure ce projet 4, le meilleur modèle pour prédire les données de consommation est le random forest cependant c'est également le plus long à exécuter. Pour améliorer le score nous pouvons voir grâce aux courbes d'apprentissage que plus de données nous auraient surement permis d'avoir de meilleurs résultats."
   ]
  },
  {
   "cell_type": "code",
   "execution_count": null,
   "metadata": {},
   "outputs": [],
   "source": []
  },
  {
   "cell_type": "code",
   "execution_count": null,
   "metadata": {},
   "outputs": [],
   "source": []
  },
  {
   "cell_type": "code",
   "execution_count": null,
   "metadata": {},
   "outputs": [],
   "source": []
  },
  {
   "cell_type": "code",
   "execution_count": null,
   "metadata": {},
   "outputs": [],
   "source": []
  },
  {
   "cell_type": "code",
   "execution_count": null,
   "metadata": {},
   "outputs": [],
   "source": []
  },
  {
   "cell_type": "code",
   "execution_count": null,
   "metadata": {},
   "outputs": [],
   "source": []
  },
  {
   "cell_type": "code",
   "execution_count": null,
   "metadata": {},
   "outputs": [],
   "source": []
  }
 ],
 "metadata": {
  "kernelspec": {
   "display_name": "Python 3",
   "language": "python",
   "name": "python3"
  },
  "language_info": {
   "codemirror_mode": {
    "name": "ipython",
    "version": 3
   },
   "file_extension": ".py",
   "mimetype": "text/x-python",
   "name": "python",
   "nbconvert_exporter": "python",
   "pygments_lexer": "ipython3",
   "version": "3.7.9"
  }
 },
 "nbformat": 4,
 "nbformat_minor": 4
}
